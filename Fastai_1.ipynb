{
  "nbformat": 4,
  "nbformat_minor": 0,
  "metadata": {
    "colab": {
      "name": "Fastai_1.ipynb",
      "provenance": [],
      "collapsed_sections": [],
      "authorship_tag": "ABX9TyNpAWm62YB0T9x7xTUdL0Ba",
      "include_colab_link": true
    },
    "kernelspec": {
      "name": "python3",
      "display_name": "Python 3"
    },
    "language_info": {
      "name": "python"
    }
  },
  "cells": [
    {
      "cell_type": "markdown",
      "metadata": {
        "id": "view-in-github",
        "colab_type": "text"
      },
      "source": [
        "<a href=\"https://colab.research.google.com/github/WanjohiWanjohi/fastai_modules/blob/main/Fastai_1.ipynb\" target=\"_parent\"><img src=\"https://colab.research.google.com/assets/colab-badge.svg\" alt=\"Open In Colab\"/></a>"
      ]
    },
    {
      "cell_type": "code",
      "metadata": {
        "id": "2ACml6UHXVMN"
      },
      "source": [
        "#NLP using svd\n",
        "\n",
        "import numpy as np \n",
        "from sklearn.datasets import fetch_20newsgroups\n",
        "from sklearn import decomposition \n",
        "from scipy import linalg \n",
        "import matplotlib.pyplot as plt\n",
        "%matplotlib inline\n",
        "np.set_printoptions(suppress=True\n",
        "                    )"
      ],
      "execution_count": 1,
      "outputs": []
    },
    {
      "cell_type": "code",
      "metadata": {
        "colab": {
          "base_uri": "https://localhost:8080/"
        },
        "id": "YUtE_UO-ZZlX",
        "outputId": "bbe839a7-705c-44ce-d6ee-5b6b1d90e151"
      },
      "source": [
        "categories = ['alt.atheism' , 'talk.religion.misc' , 'comp.graphics' , 'sci.space']\n",
        "remove = ('headers' , 'footers' , 'quotes')\n",
        "newgroups_train = fetch_20newsgroups(subset='train' , categories=categories , remove=remove)\n",
        "newgroups_train = fetch_20newsgroups(subset='test' , categories=categories , remove=remove)\n"
      ],
      "execution_count": 2,
      "outputs": [
        {
          "output_type": "stream",
          "text": [
            "Downloading 20news dataset. This may take a few minutes.\n",
            "Downloading dataset from https://ndownloader.figshare.com/files/5975967 (14 MB)\n"
          ],
          "name": "stderr"
        }
      ]
    },
    {
      "cell_type": "code",
      "metadata": {
        "colab": {
          "base_uri": "https://localhost:8080/"
        },
        "id": "u-qRLC2rbRjU",
        "outputId": "fda966b1-ca11-4b03-9940-87742b621216"
      },
      "source": [
        "newgroups_train.data[:3]"
      ],
      "execution_count": 5,
      "outputs": [
        {
          "output_type": "execute_result",
          "data": {
            "text/plain": [
              "['TRry the SKywatch project in  Arizona.',\n",
              " 'The Vatican library recently made a tour of the US.\\n Can anyone help me in finding a FTP site where this collection is \\n available.',\n",
              " 'Hi there,\\n\\nI am here looking for some help.\\n\\nMy friend is a interior decor designer. He is from Thailand. He is\\ntrying to find some graphics software on PC. Any suggestion on which\\nsoftware to buy,where to buy and how much it costs ? He likes the most\\nsophisticated \\nsoftware(the more features it has,the better)']"
            ]
          },
          "metadata": {
            "tags": []
          },
          "execution_count": 5
        }
      ]
    },
    {
      "cell_type": "code",
      "metadata": {
        "colab": {
          "base_uri": "https://localhost:8080/"
        },
        "id": "0z9TZp-Gbict",
        "outputId": "5e957776-170d-496c-df5b-9efd7619b020"
      },
      "source": [
        "np.array(newgroups_train.target_names)[newgroups_train.target[:3]]"
      ],
      "execution_count": 8,
      "outputs": [
        {
          "output_type": "execute_result",
          "data": {
            "text/plain": [
              "array(['sci.space', 'comp.graphics', 'comp.graphics'], dtype='<U18')"
            ]
          },
          "metadata": {
            "tags": []
          },
          "execution_count": 8
        }
      ]
    },
    {
      "cell_type": "code",
      "metadata": {
        "id": "WscMuze7cCcX"
      },
      "source": [
        ""
      ],
      "execution_count": null,
      "outputs": []
    }
  ]
}